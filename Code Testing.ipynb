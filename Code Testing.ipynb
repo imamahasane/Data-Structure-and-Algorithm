{
 "cells": [
  {
   "cell_type": "code",
   "execution_count": 2,
   "id": "5946cccb",
   "metadata": {},
   "outputs": [
    {
     "name": "stdout",
     "output_type": "stream",
     "text": [
      "3.0\n"
     ]
    }
   ],
   "source": [
    "def average(L):\n",
    "    if not L:\n",
    "        return None\n",
    "    \n",
    "    return sum(L) / len(L)\n",
    "\n",
    "if __name__ == \"__main__\":\n",
    "    L = [1, 2, 3, 4, 5]\n",
    "    print(average(L))"
   ]
  },
  {
   "cell_type": "code",
   "execution_count": 3,
   "id": "f763ff5e",
   "metadata": {},
   "outputs": [
    {
     "name": "stdout",
     "output_type": "stream",
     "text": [
      "test passed\n"
     ]
    }
   ],
   "source": [
    "if __name__ == \"__main__\":\n",
    "    L = [1, 2, 3, 4, 5]\n",
    "    expected_result = 3.0\n",
    "    result = average(L)\n",
    "    \n",
    "    if expected_result == result:\n",
    "        print(\"test passed\")\n",
    "        \n",
    "    else:\n",
    "        print(\"test failed!\", \"received: \", result, \"expected: \", expected_result)"
   ]
  },
  {
   "cell_type": "markdown",
   "id": "1a36b4a0",
   "metadata": {},
   "source": [
    "## Assert"
   ]
  },
  {
   "cell_type": "code",
   "execution_count": 4,
   "id": "26e8fa71",
   "metadata": {},
   "outputs": [],
   "source": [
    "assert 2 == 2"
   ]
  },
  {
   "cell_type": "code",
   "execution_count": 5,
   "id": "c0bd9a57",
   "metadata": {},
   "outputs": [
    {
     "ename": "AssertionError",
     "evalue": "",
     "output_type": "error",
     "traceback": [
      "\u001b[0;31m---------------------------------------------------------------------------\u001b[0m",
      "\u001b[0;31mAssertionError\u001b[0m                            Traceback (most recent call last)",
      "\u001b[0;32m/var/folders/gr/9w8v_1fn48ddjgbpp0c4s5cr0000gn/T/ipykernel_1374/3274321483.py\u001b[0m in \u001b[0;36m<module>\u001b[0;34m\u001b[0m\n\u001b[0;32m----> 1\u001b[0;31m \u001b[0;32massert\u001b[0m \u001b[0;36m2\u001b[0m \u001b[0;34m==\u001b[0m \u001b[0;36m3\u001b[0m\u001b[0;34m\u001b[0m\u001b[0;34m\u001b[0m\u001b[0m\n\u001b[0m",
      "\u001b[0;31mAssertionError\u001b[0m: "
     ]
    }
   ],
   "source": [
    "assert 2 == 3"
   ]
  },
  {
   "cell_type": "code",
   "execution_count": null,
   "id": "3ddfc11e",
   "metadata": {},
   "outputs": [],
   "source": [
    "assert 2 == 2.0"
   ]
  },
  {
   "cell_type": "code",
   "execution_count": null,
   "id": "499c6d88",
   "metadata": {},
   "outputs": [],
   "source": [
    "li = []"
   ]
  },
  {
   "cell_type": "code",
   "execution_count": null,
   "id": "5b96d5b4",
   "metadata": {},
   "outputs": [],
   "source": [
    "assert li == []"
   ]
  },
  {
   "cell_type": "code",
   "execution_count": null,
   "id": "5e2a964a",
   "metadata": {},
   "outputs": [],
   "source": [
    "assert li == [1]"
   ]
  },
  {
   "cell_type": "code",
   "execution_count": null,
   "id": "b7209419",
   "metadata": {},
   "outputs": [],
   "source": [
    "s = '123'"
   ]
  },
  {
   "cell_type": "code",
   "execution_count": null,
   "id": "cb0bde1f",
   "metadata": {},
   "outputs": [],
   "source": [
    "assert s == '123'"
   ]
  },
  {
   "cell_type": "code",
   "execution_count": null,
   "id": "d7839b72",
   "metadata": {},
   "outputs": [],
   "source": [
    "assert s == 123"
   ]
  },
  {
   "cell_type": "code",
   "execution_count": 6,
   "id": "28495c2e",
   "metadata": {},
   "outputs": [],
   "source": [
    "if __name__ == \"__main__\":\n",
    "    L = [1, 2, 3, 4, 5]\n",
    "    expected_result = 3.0\n",
    "    assert expected_result == average(L), \"average() produced incorrect result\""
   ]
  },
  {
   "cell_type": "code",
   "execution_count": 7,
   "id": "46b8081e",
   "metadata": {},
   "outputs": [
    {
     "ename": "AssertionError",
     "evalue": "average() produced incorrect result",
     "output_type": "error",
     "traceback": [
      "\u001b[0;31m---------------------------------------------------------------------------\u001b[0m",
      "\u001b[0;31mAssertionError\u001b[0m                            Traceback (most recent call last)",
      "\u001b[0;32m/var/folders/gr/9w8v_1fn48ddjgbpp0c4s5cr0000gn/T/ipykernel_1374/2670069428.py\u001b[0m in \u001b[0;36m<module>\u001b[0;34m\u001b[0m\n\u001b[1;32m      2\u001b[0m     \u001b[0mL\u001b[0m \u001b[0;34m=\u001b[0m \u001b[0;34m[\u001b[0m\u001b[0;36m1\u001b[0m\u001b[0;34m,\u001b[0m \u001b[0;36m2\u001b[0m\u001b[0;34m,\u001b[0m \u001b[0;36m3\u001b[0m\u001b[0;34m,\u001b[0m \u001b[0;36m4\u001b[0m\u001b[0;34m,\u001b[0m \u001b[0;36m5\u001b[0m\u001b[0;34m]\u001b[0m\u001b[0;34m\u001b[0m\u001b[0;34m\u001b[0m\u001b[0m\n\u001b[1;32m      3\u001b[0m     \u001b[0mexpected_result\u001b[0m \u001b[0;34m=\u001b[0m \u001b[0;36m3.10\u001b[0m\u001b[0;34m\u001b[0m\u001b[0;34m\u001b[0m\u001b[0m\n\u001b[0;32m----> 4\u001b[0;31m     \u001b[0;32massert\u001b[0m \u001b[0mexpected_result\u001b[0m \u001b[0;34m==\u001b[0m \u001b[0maverage\u001b[0m\u001b[0;34m(\u001b[0m\u001b[0mL\u001b[0m\u001b[0;34m)\u001b[0m\u001b[0;34m,\u001b[0m \u001b[0;34m\"average() produced incorrect result\"\u001b[0m\u001b[0;34m\u001b[0m\u001b[0;34m\u001b[0m\u001b[0m\n\u001b[0m",
      "\u001b[0;31mAssertionError\u001b[0m: average() produced incorrect result"
     ]
    }
   ],
   "source": [
    "if __name__ == \"__main__\":\n",
    "    L = [1, 2, 3, 4, 5]\n",
    "    expected_result = 3.10\n",
    "    assert expected_result == average(L), \"average() produced incorrect result\""
   ]
  },
  {
   "cell_type": "markdown",
   "id": "e81bcbc8",
   "metadata": {},
   "source": [
    "## Unit Testing"
   ]
  },
  {
   "cell_type": "code",
   "execution_count": 8,
   "id": "a69ecb9f",
   "metadata": {},
   "outputs": [],
   "source": [
    "def average(L):\n",
    "    if not L:\n",
    "        return None\n",
    "    \n",
    "    return sum(L) / len(L)\n",
    "\n",
    "def test_agerage():\n",
    "    assert 3.0 == average([1, 2, 3, 4, 5])"
   ]
  },
  {
   "cell_type": "code",
   "execution_count": 10,
   "id": "4810e74b",
   "metadata": {},
   "outputs": [
    {
     "ename": "SyntaxError",
     "evalue": "invalid syntax (1966359972.py, line 1)",
     "output_type": "error",
     "traceback": [
      "\u001b[0;36m  File \u001b[0;32m\"/var/folders/gr/9w8v_1fn48ddjgbpp0c4s5cr0000gn/T/ipykernel_1374/1966359972.py\"\u001b[0;36m, line \u001b[0;32m1\u001b[0m\n\u001b[0;31m    pytest average.py\u001b[0m\n\u001b[0m           ^\u001b[0m\n\u001b[0;31mSyntaxError\u001b[0m\u001b[0;31m:\u001b[0m invalid syntax\n"
     ]
    }
   ],
   "source": [
    "pytest average.py"
   ]
  },
  {
   "cell_type": "code",
   "execution_count": null,
   "id": "b8eb297a",
   "metadata": {},
   "outputs": [],
   "source": []
  }
 ],
 "metadata": {
  "kernelspec": {
   "display_name": "Python 3 (ipykernel)",
   "language": "python",
   "name": "python3"
  },
  "language_info": {
   "codemirror_mode": {
    "name": "ipython",
    "version": 3
   },
   "file_extension": ".py",
   "mimetype": "text/x-python",
   "name": "python",
   "nbconvert_exporter": "python",
   "pygments_lexer": "ipython3",
   "version": "3.8.8"
  }
 },
 "nbformat": 4,
 "nbformat_minor": 5
}
